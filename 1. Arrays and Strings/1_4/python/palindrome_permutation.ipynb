{
 "cells": [
  {
   "cell_type": "markdown",
   "metadata": {},
   "source": [
    "Created by Joseph Park on 06/08/17\n",
    "\n",
    "Palindrome Permutation: Given a string, write a function to check if it is a permutation of a palindrome. A palindrome is a word or phrase that is the same forwards and backwards. A permutation is a rearrangement of letters. The palindrome does not need to be limited to just dictionary words."
   ]
  },
  {
   "cell_type": "code",
   "execution_count": 41,
   "metadata": {
    "collapsed": false
   },
   "outputs": [
    {
     "data": {
      "text/plain": [
       "False"
      ]
     },
     "execution_count": 41,
     "metadata": {},
     "output_type": "execute_result"
    }
   ],
   "source": [
    "def palindrome_perm(giveninput):\n",
    "    ascii_counter = [0] * 128\n",
    "    for i in giveninput:\n",
    "        if ascii_counter[ord(i)] == 0:\n",
    "            ascii_counter[ord(i)] = ascii_counter[ord(i)] + 1\n",
    "        elif ascii_counter[ord(i)] > 0:\n",
    "            ascii_counter[ord(i)] = ascii_counter[ord(i)] - 1\n",
    "    if len(giveninput)%2 == 0:\n",
    "        for i in ascii_counter:\n",
    "            if i != 0:\n",
    "                return False\n",
    "    else:\n",
    "        encounteredone = False\n",
    "        for i in ascii_counter:\n",
    "            if i != 0:\n",
    "                if i == 1 and encounteredone == False:\n",
    "                    encounteredone = True\n",
    "                else:\n",
    "                    return False\n",
    "    return True"
   ]
  }
 ],
 "metadata": {
  "anaconda-cloud": {},
  "kernelspec": {
   "display_name": "Python [default]",
   "language": "python",
   "name": "python3"
  },
  "language_info": {
   "codemirror_mode": {
    "name": "ipython",
    "version": 3
   },
   "file_extension": ".py",
   "mimetype": "text/x-python",
   "name": "python",
   "nbconvert_exporter": "python",
   "pygments_lexer": "ipython3",
   "version": "3.5.2"
  }
 },
 "nbformat": 4,
 "nbformat_minor": 1
}
