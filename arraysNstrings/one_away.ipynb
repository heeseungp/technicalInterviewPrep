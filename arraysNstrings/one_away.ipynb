{
 "cells": [
  {
   "cell_type": "markdown",
   "metadata": {},
   "source": [
    "Created by Joseph Park on 06/08/17\n",
    "\n",
    "One Away: There are three types of edits that can be performed on strings: inserts a character, remove a character, or replace a character. Given two strings, write a function to check if they are one edit or zero edit away."
   ]
  },
  {
   "cell_type": "code",
   "execution_count": 12,
   "metadata": {
    "collapsed": false
   },
   "outputs": [],
   "source": [
    "def oneaway(str1, str2):\n",
    "    #noedit and replacement\n",
    "    if len(str1) == len(str2):\n",
    "        replacedstate = False\n",
    "        for idx, element in enumerate(str1):\n",
    "            if str1[idx] != str2[idx]:\n",
    "                if replacedstate is False:\n",
    "                    replacedstate = True\n",
    "                else: return False\n",
    "        \n",
    "    #insertion and deletion\n",
    "    else:\n",
    "        difference = len(str1) - len(str2)\n",
    "        if difference is -1 or difference is 1:\n",
    "            if difference is 1:\n",
    "                larger = str1\n",
    "                smaller = str2\n",
    "            else:\n",
    "                larger = str2\n",
    "                smaller = str1 \n",
    "            accelerate = 0 \n",
    "            largeridx = 0\n",
    "            smalleridx = 0\n",
    "            edit = False\n",
    "            while smalleridx < len(smaller):\n",
    "                if larger[largeridx] != smaller[smalleridx]:\n",
    "                    if edit == False:\n",
    "                        edit = True\n",
    "                        largeridx = 1\n",
    "                    else:\n",
    "                        return False\n",
    "                largeridx += 1\n",
    "                smalleridx += 1\n",
    "            \n",
    "        else: return False\n",
    "    return True"
   ]
  }
 ],
 "metadata": {
  "anaconda-cloud": {},
  "kernelspec": {
   "display_name": "Python [default]",
   "language": "python",
   "name": "python3"
  },
  "language_info": {
   "codemirror_mode": {
    "name": "ipython",
    "version": 3
   },
   "file_extension": ".py",
   "mimetype": "text/x-python",
   "name": "python",
   "nbconvert_exporter": "python",
   "pygments_lexer": "ipython3",
   "version": "3.5.2"
  }
 },
 "nbformat": 4,
 "nbformat_minor": 1
}
