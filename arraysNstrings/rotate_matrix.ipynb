{
 "cells": [
  {
   "cell_type": "markdown",
   "metadata": {},
   "source": [
    "Created by Joseph Park on 06/09/17\n",
    "\n",
    "Rotate Matrix: Given an image represented by an NxN matrix, where each pixel in the image is 4 bytes, write a method to rotate the image by 90 degrees. Can you do this in place?"
   ]
  },
  {
   "cell_type": "code",
   "execution_count": 5,
   "metadata": {
    "collapsed": false
   },
   "outputs": [],
   "source": [
    "import math\n",
    "def rotate_matrix(matrix):\n",
    "    if len(matrix) != len(matrix[0]):\n",
    "        return matrix\n",
    "    else:\n",
    "        for layer in range(0,math.floor(len(matrix)/2)):\n",
    "            first = layer\n",
    "            last = len(matrix[0]) - 1 - layer\n",
    "            for i in range(first,last):\n",
    "                offset = i - first\n",
    "                top = matrix[first][i]\n",
    "                matrix[first][i] = matrix[last-offset][first]\n",
    "                matrix[last-offset][first] = matrix[last][last-offset]\n",
    "                matrix[last][last-offset] = matrix[i][last]\n",
    "                matrix[i][last] = top\n",
    "        return matrix\n",
    "            \n",
    "    \n",
    "# rotate_matrix([[1,2,3],[4,5,6],[7,8,9]])"
   ]
  }
 ],
 "metadata": {
  "anaconda-cloud": {},
  "kernelspec": {
   "display_name": "Python [default]",
   "language": "python",
   "name": "python3"
  },
  "language_info": {
   "codemirror_mode": {
    "name": "ipython",
    "version": 3
   },
   "file_extension": ".py",
   "mimetype": "text/x-python",
   "name": "python",
   "nbconvert_exporter": "python",
   "pygments_lexer": "ipython3",
   "version": "3.5.2"
  }
 },
 "nbformat": 4,
 "nbformat_minor": 1
}
