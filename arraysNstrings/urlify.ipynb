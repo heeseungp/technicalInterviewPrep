{
 "cells": [
  {
   "cell_type": "markdown",
   "metadata": {},
   "source": [
    "Created by Joseph Park on 06/08/17\n",
    "\n",
    "URLify: Write a method to replace all spaces in a string with '%20'. You may assume that the string has sufficient space at the end to hold the additional characters, and that you are given the \"true\" length of the string."
   ]
  },
  {
   "cell_type": "code",
   "execution_count": 19,
   "metadata": {
    "collapsed": false
   },
   "outputs": [
    {
     "name": "stdout",
     "output_type": "stream",
     "text": [
      "MR%20JOHN%20SMITH"
     ]
    }
   ],
   "source": [
    "# \"MR JOHN SMITH    \", 13\n",
    "# \"MR%20JOHN%20SMITH\"\n",
    "\n",
    "def URLify(giveninput, truelength):\n",
    "    giveninput = list(giveninput)\n",
    "    numberofskip = (len(giveninput) - truelength)/2 \n",
    "    lastidx = len(giveninput) - 1\n",
    "    if numberofskip > 0:\n",
    "        for i in range(truelength-1, -1, -1):\n",
    "            if numberofskip < 1:\n",
    "                break\n",
    "            elif giveninput[i] != ' ':\n",
    "                giveninput[lastidx] = giveninput[i]\n",
    "                lastidx -= 1\n",
    "            else:\n",
    "                giveninput[lastidx] = '0'\n",
    "                giveninput[lastidx-1] = '2'\n",
    "                giveninput[lastidx-2] = '%'\n",
    "                lastidx = lastidx - 3\n",
    "                numberofskip -= 1\n",
    "    for i in giveninput:\n",
    "        print(i, end='')\n",
    "\n",
    "URLify(\"MR JOHN SMITH    \", 13)"
   ]
  }
 ],
 "metadata": {
  "kernelspec": {
   "display_name": "Python [default]",
   "language": "python",
   "name": "python3"
  },
  "language_info": {
   "codemirror_mode": {
    "name": "ipython",
    "version": 3
   },
   "file_extension": ".py",
   "mimetype": "text/x-python",
   "name": "python",
   "nbconvert_exporter": "python",
   "pygments_lexer": "ipython3",
   "version": "3.5.2"
  }
 },
 "nbformat": 4,
 "nbformat_minor": 1
}
