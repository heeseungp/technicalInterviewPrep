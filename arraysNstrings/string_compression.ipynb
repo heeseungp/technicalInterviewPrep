{
 "cells": [
  {
   "cell_type": "markdown",
   "metadata": {},
   "source": [
    "Created by Joseph Park on 06/09/17\n",
    "\n",
    "String Compression: Implement a method to perform basic string compression using the counts of repeated characters. For example, the string aabcccccaaa would become a2b1c5a3. If the \"compressed\" string would not become smaller than the original string, your method should return the original string. You can assume the string has only uppercase and lowercase letter (a-z)."
   ]
  },
  {
   "cell_type": "code",
   "execution_count": 7,
   "metadata": {
    "collapsed": false
   },
   "outputs": [],
   "source": [
    "def string_compression(userinput):\n",
    "    compressed = \"\"\n",
    "    if len(userinput) > 0:\n",
    "        occurrence = 0\n",
    "        firstword = userinput[0]\n",
    "        for i in userinput:\n",
    "            if firstword == i:\n",
    "                occurrence += 1\n",
    "            else:\n",
    "                compressed += firstword + str(occurrence)\n",
    "                firstword = i\n",
    "                occurrence = 1\n",
    "        compressed += firstword + str(occurrence)\n",
    "        if len(userinput) >= len(compressed):\n",
    "            return compressed\n",
    "    print(userinput)"
   ]
  }
 ],
 "metadata": {
  "anaconda-cloud": {},
  "kernelspec": {
   "display_name": "Python [default]",
   "language": "python",
   "name": "python3"
  },
  "language_info": {
   "codemirror_mode": {
    "name": "ipython",
    "version": 3
   },
   "file_extension": ".py",
   "mimetype": "text/x-python",
   "name": "python",
   "nbconvert_exporter": "python",
   "pygments_lexer": "ipython3",
   "version": "3.5.2"
  }
 },
 "nbformat": 4,
 "nbformat_minor": 1
}
