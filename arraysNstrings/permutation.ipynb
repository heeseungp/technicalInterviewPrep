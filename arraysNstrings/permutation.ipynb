{
 "cells": [
  {
   "cell_type": "markdown",
   "metadata": {},
   "source": [
    "Created by Joseph Park on 06/08/17\n",
    "\n",
    "Check Permuation: Given two strings, write a method to decide if one is a permutation of the other."
   ]
  },
  {
   "cell_type": "code",
   "execution_count": 6,
   "metadata": {
    "collapsed": false
   },
   "outputs": [],
   "source": [
    "def permutation(str1, str2):\n",
    "    if len(str1) != len(str2):\n",
    "        return False\n",
    "    char_counter = [0] * 128\n",
    "    for idx, element in enumerate(str1):\n",
    "        char_counter[ord(element)] =  char_counter[ord(element)] + 1\n",
    "    for idx, element in enumerate(str2):\n",
    "        if char_counter[ord(element)] < 1:\n",
    "            return False\n",
    "        else:\n",
    "            char_counter[ord(element)] = char_counter[ord(element)] - 1\n",
    "    return True"
   ]
  }
 ],
 "metadata": {
  "anaconda-cloud": {},
  "kernelspec": {
   "display_name": "Python [default]",
   "language": "python",
   "name": "python3"
  },
  "language_info": {
   "codemirror_mode": {
    "name": "ipython",
    "version": 3
   },
   "file_extension": ".py",
   "mimetype": "text/x-python",
   "name": "python",
   "nbconvert_exporter": "python",
   "pygments_lexer": "ipython3",
   "version": "3.5.2"
  }
 },
 "nbformat": 4,
 "nbformat_minor": 1
}
