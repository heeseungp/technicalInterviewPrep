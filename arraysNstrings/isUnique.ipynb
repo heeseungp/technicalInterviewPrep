{
 "cells": [
  {
   "cell_type": "markdown",
   "metadata": {
    "collapsed": true
   },
   "source": [
    "Created by Joseph Park on 06/08/17\n",
    "\n",
    "Is Unique: Implement an algorithm to determine if a string has all unique characters. \n",
    "What if you cannot use additional data structures?"
   ]
  },
  {
   "cell_type": "code",
   "execution_count": 1,
   "metadata": {
    "collapsed": false
   },
   "outputs": [
    {
     "name": "stdout",
     "output_type": "stream",
     "text": [
      "Enter your string to check uniqueness: h\n"
     ]
    },
    {
     "data": {
      "text/plain": [
       "5"
      ]
     },
     "execution_count": 1,
     "metadata": {},
     "output_type": "execute_result"
    }
   ],
   "source": [
    "def isUnique(givenString):\n",
    "    if len(givenString) > 128:\n",
    "        return False\n",
    "    ascii_lookup = [False] * 128 #128 is the ASCII 7 bit\n",
    "    uniqueTF = True\n",
    "    for idx, element in enumerate(givenString):\n",
    "        ascii_value = ord(element)\n",
    "        if ascii_lookup[ascii_value]:\n",
    "            uniqueTF = False\n",
    "            return False\n",
    "        else:\n",
    "            ascii_lookup[ascii_value] = True\n",
    "    return True\n",
    "\n",
    "inputString = input(\"Enter your string to check uniqueness: \")\n",
    "isUnique(inputString)"
   ]
  }
 ],
 "metadata": {
  "anaconda-cloud": {},
  "kernelspec": {
   "display_name": "Python [default]",
   "language": "python",
   "name": "python3"
  },
  "language_info": {
   "codemirror_mode": {
    "name": "ipython",
    "version": 3
   },
   "file_extension": ".py",
   "mimetype": "text/x-python",
   "name": "python",
   "nbconvert_exporter": "python",
   "pygments_lexer": "ipython3",
   "version": "3.5.2"
  }
 },
 "nbformat": 4,
 "nbformat_minor": 1
}
